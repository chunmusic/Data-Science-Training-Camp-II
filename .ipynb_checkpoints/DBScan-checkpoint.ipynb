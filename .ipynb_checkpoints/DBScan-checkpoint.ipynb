{
 "cells": [
  {
   "cell_type": "code",
   "execution_count": 2,
   "metadata": {},
   "outputs": [],
   "source": [
    "import numpy as np\n",
    "import pandas as pd\n",
    "import warnings\n",
    "from matplotlib import pyplot as plt\n",
    "from sklearn.datasets.samples_generator import make_blobs\n",
    "from sklearn.cluster import KMeans\n",
    "import folium\n",
    "\n",
    "warnings.simplefilter('ignore')\n",
    "\n",
    "data_df = pd.read_csv(\"married_female_30-34_all.csv\")"
   ]
  },
  {
   "cell_type": "code",
   "execution_count": 3,
   "metadata": {},
   "outputs": [],
   "source": [
    "data_df = data_df[['latitude', 'longitude']].to_numpy()\n",
    "\n"
   ]
  },
  {
   "cell_type": "code",
   "execution_count": 4,
   "metadata": {},
   "outputs": [
    {
     "data": {
      "text/plain": [
       "array([[ 38.33824158, 140.87713623],\n",
       "       [ 38.33823395, 140.87715149],\n",
       "       [ 38.33824158, 140.87713623],\n",
       "       ...,\n",
       "       [ 38.29370117, 140.88641357],\n",
       "       [ 38.29370117, 140.88641357],\n",
       "       [ 38.22465515, 140.87562561]])"
      ]
     },
     "execution_count": 4,
     "metadata": {},
     "output_type": "execute_result"
    }
   ],
   "source": [
    "data_df"
   ]
  },
  {
   "cell_type": "code",
   "execution_count": null,
   "metadata": {},
   "outputs": [],
   "source": []
  },
  {
   "cell_type": "code",
   "execution_count": 6,
   "metadata": {},
   "outputs": [
    {
     "data": {
      "text/plain": [
       "<matplotlib.collections.PathCollection at 0x7fc198478d50>"
      ]
     },
     "execution_count": 6,
     "metadata": {},
     "output_type": "execute_result"
    },
    {
     "data": {
      "image/png": "[encoded data removed]",
      "text/plain": [
       "<Figure size 432x288 with 1 Axes>"
      ]
     },
     "metadata": {
      "needs_background": "light"
     },
     "output_type": "display_data"
    }
   ],
   "source": [
    "import numpy as np\n",
    "import matplotlib.pyplot as plt\n",
    "from sklearn import metrics\n",
    "from sklearn.datasets import make_circles\n",
    "from sklearn.preprocessing import StandardScaler\n",
    "from sklearn.cluster import DBSCAN\n",
    "X, y = make_circles(n_samples=750, factor=0.3, noise=0.1)\n",
    "X = StandardScaler().fit_transform(data_df)\n",
    "y_pred = DBSCAN(eps=0.3, min_samples=10).fit_predict(X)\n",
    "\n",
    "plt.scatter(X[:,0], X[:,1], c=y_pred)\n",
    "\n",
    " "
   ]
  },
  {
   "cell_type": "code",
   "execution_count": 7,
   "metadata": {},
   "outputs": [
    {
     "data": {
      "text/plain": [
       "array([[ 1.51600649, -0.8553195 ],\n",
       "       [ 1.51574637, -0.8548516 ],\n",
       "       [ 1.51600649, -0.8553195 ],\n",
       "       ...,\n",
       "       [-0.00261685, -0.57083535],\n",
       "       [-0.00261685, -0.57083535],\n",
       "       [-2.35676917, -0.90164175]])"
      ]
     },
     "execution_count": 7,
     "metadata": {},
     "output_type": "execute_result"
    }
   ],
   "source": [
    "X"
   ]
  },
  {
   "cell_type": "code",
   "execution_count": 8,
   "metadata": {},
   "outputs": [
    {
     "data": {
      "text/plain": [
       "(array([[2.36434546, 0.23302434],\n",
       "        [0.92311785, 4.18467098],\n",
       "        [1.64221028, 0.72296432],\n",
       "        ...,\n",
       "        [1.84156446, 4.83839851],\n",
       "        [2.16897939, 1.59473117],\n",
       "        [0.73774446, 4.28276041]]),\n",
       " array([1, 0, 1, 1, 2, 2, 0, 0, 2, 2, 1, 0, 1, 0, 0, 1, 2, 1, 0, 2, 1, 1,\n",
       "        2, 1, 0, 0, 2, 2, 1, 1, 2, 1, 1, 1, 0, 0, 2, 2, 0, 2, 2, 2, 1, 0,\n",
       "        0, 2, 0, 0, 2, 2, 0, 2, 2, 1, 2, 1, 1, 0, 0, 1, 2, 1, 0, 1, 2, 1,\n",
       "        2, 0, 0, 2, 2, 2, 1, 0, 1, 2, 2, 1, 2, 0, 1, 0, 0, 0, 2, 1, 0, 0,\n",
       "        2, 2, 2, 0, 1, 1, 0, 2, 1, 2, 0, 0, 0, 0, 0, 0, 1, 1, 2, 2, 1, 2,\n",
       "        0, 2, 1, 2, 1, 2, 1, 0, 1, 0, 0, 1, 2, 1, 2, 2, 2, 0, 2, 1, 2, 2,\n",
       "        2, 1, 0, 2, 0, 0, 0, 0, 1, 2, 2, 1, 1, 0, 2, 1, 1, 1, 2, 1, 0, 1,\n",
       "        2, 2, 2, 0, 2, 0, 1, 2, 0, 1, 0, 2, 0, 2, 0, 1, 0, 0, 0, 2, 2, 1,\n",
       "        2, 2, 2, 1, 0, 2, 2, 2, 2, 2, 1, 2, 2, 2, 0, 1, 2, 0, 0, 2, 1, 1,\n",
       "        1, 0, 2, 0, 1, 2, 2, 2, 0, 1, 1, 2, 1, 2, 1, 2, 1, 0, 0, 1, 0, 1,\n",
       "        0, 0, 2, 0, 2, 0, 0, 1, 2, 1, 1, 0, 2, 2, 1, 1, 1, 1, 0, 0, 2, 0,\n",
       "        0, 0, 1, 0, 1, 2, 1, 2, 2, 2, 0, 1, 2, 2, 1, 2, 1, 0, 1, 2, 1, 0,\n",
       "        0, 2, 0, 1, 0, 2, 2, 2, 1, 1, 0, 0, 0, 1, 0, 0, 2, 1, 1, 2, 1, 2,\n",
       "        2, 1, 2, 1, 2, 0, 1, 1, 0, 1, 1, 2, 2, 1, 2, 0, 2, 2, 0, 0, 2, 0,\n",
       "        2, 0, 2, 1, 0, 0, 2, 0, 1, 1, 2, 1, 1, 2, 0, 2, 1, 0, 0, 2, 1, 2,\n",
       "        2, 1, 2, 0, 1, 2, 1, 1, 0, 0, 1, 1, 1, 0, 2, 0, 1, 2, 2, 0, 0, 2,\n",
       "        0, 2, 1, 0, 2, 0, 2, 0, 2, 1, 0, 2, 2, 0, 2, 0, 1, 2, 1, 1, 1, 1,\n",
       "        2, 0, 2, 0, 2, 1, 2, 0, 0, 2, 0, 1, 0, 0, 1, 0, 0, 1, 0, 2, 0, 1,\n",
       "        0, 1, 1, 1, 2, 1, 0, 1, 1, 0, 2, 1, 0, 2, 2, 1, 1, 2, 0, 2, 1, 1,\n",
       "        1, 2, 0, 2, 1, 2, 1, 0, 1, 0, 1, 2, 0, 0, 1, 0, 1, 0, 0, 2, 2, 2,\n",
       "        2, 2, 2, 2, 1, 0, 0, 0, 0, 2, 1, 0, 2, 1, 0, 1, 2, 0, 0, 2, 0, 1,\n",
       "        1, 0, 2, 0, 2, 2, 1, 1, 1, 1, 0, 1, 0, 0, 1, 0, 1, 1, 2, 2, 1, 0,\n",
       "        1, 2, 2, 1, 1, 1, 1, 1, 0, 0, 0, 2, 2, 1, 2, 1, 0, 0, 1, 2, 2, 0,\n",
       "        0, 2, 0, 1, 0, 2, 1, 0, 1, 0, 1, 1, 1, 0, 0, 2, 0, 1, 1, 2, 1, 1,\n",
       "        0, 1, 0, 2, 1, 0, 0, 1, 0, 1, 1, 2, 2, 1, 2, 2, 1, 2, 1, 1, 1, 1,\n",
       "        2, 0, 0, 0, 1, 2, 1, 2, 0, 2, 0, 2, 1, 0, 1, 1, 0, 0, 1, 2, 1, 2,\n",
       "        2, 0, 2, 1, 1, 1, 2, 0, 0, 2, 0, 2, 2, 0, 2, 0, 1, 1, 1, 1, 0, 0,\n",
       "        0, 2, 1, 1, 1, 2, 1, 2, 2, 2, 2, 0, 2, 1, 1, 0, 0, 1, 0, 2, 1, 2,\n",
       "        1, 0, 2, 2, 0, 0, 1, 0, 0, 2, 0, 0, 0, 2, 0, 2, 0, 0, 1, 1, 0, 0,\n",
       "        1, 2, 1, 0, 0, 0, 0, 2, 1, 1, 1, 2, 1, 0, 0, 2, 2, 0, 1, 2, 0, 1,\n",
       "        2, 2, 1, 0, 0, 0, 1, 2, 0, 0, 0, 2, 2, 2, 0, 1, 1, 1, 1, 1, 0, 0,\n",
       "        2, 1, 2, 0, 1, 1, 1, 0, 2, 1, 1, 1, 2, 1, 2, 0, 2, 2, 1, 0, 0, 0,\n",
       "        1, 1, 2, 0, 0, 2, 2, 1, 2, 2, 2, 0, 2, 1, 2, 1, 1, 1, 2, 0, 2, 0,\n",
       "        2, 2, 0, 0, 1, 1, 2, 0, 2, 0, 2, 0, 0, 1, 0, 2, 1, 2, 0, 1, 0, 0,\n",
       "        1, 0]))"
      ]
     },
     "execution_count": 8,
     "metadata": {},
     "output_type": "execute_result"
    }
   ],
   "source": [
    "make_blobs(n_samples=750, centers=centers, cluster_std=0.4,random_state=0)"
   ]
  },
  {
   "cell_type": "markdown",
   "metadata": {},
   "source": [
    "# Group 1"
   ]
  },
  {
   "cell_type": "code",
   "execution_count": 9,
   "metadata": {
    "scrolled": true
   },
   "outputs": [
    {
     "ename": "IndexError",
     "evalue": "only integers, slices (`:`), ellipsis (`...`), numpy.newaxis (`None`) and integer or boolean arrays are valid indices",
     "output_type": "error",
     "traceback": [
      "\u001b[0;31m---------------------------------------------------------------------------\u001b[0m",
      "\u001b[0;31mIndexError\u001b[0m                                Traceback (most recent call last)",
      "\u001b[0;32m<ipython-input-9-ae869c474733>\u001b[0m in \u001b[0;36m<module>\u001b[0;34m\u001b[0m\n\u001b[0;32m----> 1\u001b[0;31m \u001b[0mdata_group1\u001b[0m \u001b[0;34m=\u001b[0m \u001b[0mdata_df\u001b[0m\u001b[0;34m[\u001b[0m\u001b[0mdata_df\u001b[0m\u001b[0;34m[\u001b[0m\u001b[0;34m'cluster'\u001b[0m\u001b[0;34m]\u001b[0m\u001b[0;34m==\u001b[0m\u001b[0;36m0\u001b[0m\u001b[0;34m]\u001b[0m\u001b[0;34m\u001b[0m\u001b[0;34m\u001b[0m\u001b[0m\n\u001b[0m\u001b[1;32m      2\u001b[0m \u001b[0mdata_group1\u001b[0m\u001b[0;34m.\u001b[0m\u001b[0mgroupby\u001b[0m\u001b[0;34m(\u001b[0m\u001b[0;34m[\u001b[0m\u001b[0;34m'category_id1'\u001b[0m\u001b[0;34m]\u001b[0m\u001b[0;34m)\u001b[0m\u001b[0;34m.\u001b[0m\u001b[0msize\u001b[0m\u001b[0;34m(\u001b[0m\u001b[0;34m)\u001b[0m\u001b[0;34m\u001b[0m\u001b[0;34m\u001b[0m\u001b[0m\n",
      "\u001b[0;31mIndexError\u001b[0m: only integers, slices (`:`), ellipsis (`...`), numpy.newaxis (`None`) and integer or boolean arrays are valid indices"
     ]
    }
   ],
   "source": [
    "data_group1 = data_df[data_df['cluster']==0]\n",
    "data_group1.groupby(['category_id1']).size()"
   ]
  },
  {
   "cell_type": "code",
   "execution_count": null,
   "metadata": {},
   "outputs": [],
   "source": [
    "locationlist = data_group1[[\"latitude\",\"longitude\"]].values.tolist()\n",
    "labels = data_group1[\"cluster\"].values.tolist()\n",
    "\n",
    "m = folium.Map(location=kmeans.cluster_centers_[0].tolist(), zoom_start=13)\n",
    "for point in range(len(locationlist)):\n",
    "    folium.Marker(locationlist[point], icon=folium.Icon(color='blue',icon='info-sign')).add_to(m)\n",
    "    \n",
    "folium.Marker(kmeans.cluster_centers_[0].tolist(),popup = data_group1.groupby(['category_id1']).size().idxmax()\n",
    ", icon=folium.Icon(color='green',icon='info-sign')).add_to(m)\n",
    "\n",
    "m"
   ]
  },
  {
   "cell_type": "code",
   "execution_count": null,
   "metadata": {},
   "outputs": [],
   "source": []
  },
  {
   "cell_type": "markdown",
   "metadata": {},
   "source": [
    "# Group2 "
   ]
  },
  {
   "cell_type": "code",
   "execution_count": null,
   "metadata": {},
   "outputs": [],
   "source": [
    "data_group2 = data_df[data_df['cluster']==1]\n",
    "data_group2.groupby(['category_id1']).size()"
   ]
  },
  {
   "cell_type": "code",
   "execution_count": null,
   "metadata": {},
   "outputs": [],
   "source": [
    "locationlist = data_group2[[\"latitude\",\"longitude\"]].values.tolist()\n",
    "labels = data_group2[\"cluster\"].values.tolist()\n",
    "\n",
    "m = folium.Map(location=kmeans.cluster_centers_[1].tolist(), zoom_start=13)\n",
    "for point in range(len(locationlist)):\n",
    "    folium.Marker(locationlist[point], icon=folium.Icon(color='blue',icon='info-sign')).add_to(m)\n",
    "    \n",
    "folium.Marker(kmeans.cluster_centers_[1].tolist(),popup = data_group2.groupby(['category_id1']).size().idxmax()\n",
    ", icon=folium.Icon(color='green',icon='info-sign')).add_to(m)\n",
    "\n",
    "m"
   ]
  },
  {
   "cell_type": "code",
   "execution_count": null,
   "metadata": {},
   "outputs": [],
   "source": []
  },
  {
   "cell_type": "markdown",
   "metadata": {},
   "source": [
    "# Group3"
   ]
  },
  {
   "cell_type": "code",
   "execution_count": null,
   "metadata": {},
   "outputs": [],
   "source": [
    "data_group3 = data_df[data_df['cluster']==2]\n",
    "data_group3.groupby(['category_id1']).size()"
   ]
  },
  {
   "cell_type": "code",
   "execution_count": null,
   "metadata": {},
   "outputs": [],
   "source": [
    "locationlist = data_group3[[\"latitude\",\"longitude\"]].values.tolist()\n",
    "labels = data_group3[\"cluster\"].values.tolist()\n",
    "\n",
    "m = folium.Map(location=kmeans.cluster_centers_[2].tolist(), zoom_start=13)\n",
    "for point in range(len(locationlist)):\n",
    "    folium.Marker(locationlist[point], icon=folium.Icon(color='blue',icon='info-sign')).add_to(m)\n",
    "    \n",
    "folium.Marker(kmeans.cluster_centers_[2].tolist(),popup = data_group3.groupby(['category_id1']).size().idxmax()\n",
    ", icon=folium.Icon(color='green',icon='info-sign')).add_to(m)\n",
    "\n",
    "m"
   ]
  },
  {
   "cell_type": "code",
   "execution_count": null,
   "metadata": {},
   "outputs": [],
   "source": []
  },
  {
   "cell_type": "markdown",
   "metadata": {},
   "source": [
    "# Group4"
   ]
  },
  {
   "cell_type": "code",
   "execution_count": null,
   "metadata": {},
   "outputs": [],
   "source": [
    "data_group4 = data_df[data_df['cluster']==3]\n",
    "data_group4.groupby(['category_id1']).size()"
   ]
  },
  {
   "cell_type": "code",
   "execution_count": null,
   "metadata": {},
   "outputs": [],
   "source": [
    "locationlist = data_group4[[\"latitude\",\"longitude\"]].values.tolist()\n",
    "labels = data_group4[\"cluster\"].values.tolist()\n",
    "\n",
    "m = folium.Map(location=kmeans.cluster_centers_[3].tolist(), zoom_start=13)\n",
    "for point in range(len(locationlist)):\n",
    "    folium.Marker(locationlist[point], icon=folium.Icon(color='blue',icon='info-sign')).add_to(m)\n",
    "    \n",
    "folium.Marker(kmeans.cluster_centers_[3].tolist(),popup = data_group4.groupby(['category_id1']).size().idxmax()\n",
    ", icon=folium.Icon(color='green',icon='info-sign')).add_to(m)\n",
    "\n",
    "m"
   ]
  },
  {
   "cell_type": "markdown",
   "metadata": {},
   "source": [
    "# Group5"
   ]
  },
  {
   "cell_type": "code",
   "execution_count": null,
   "metadata": {},
   "outputs": [],
   "source": [
    "data_group5 = data_df[data_df['cluster']==4]\n",
    "data_group5.groupby(['category_id1']).size()"
   ]
  },
  {
   "cell_type": "code",
   "execution_count": null,
   "metadata": {},
   "outputs": [],
   "source": [
    "locationlist = data_group5[[\"latitude\",\"longitude\"]].values.tolist()\n",
    "labels = data_group5[\"cluster\"].values.tolist()\n",
    "\n",
    "m = folium.Map(location=kmeans.cluster_centers_[4].tolist(), zoom_start=13)\n",
    "for point in range(len(locationlist)):\n",
    "    folium.Marker(locationlist[point], icon=folium.Icon(color='blue',icon='info-sign')).add_to(m)\n",
    "    \n",
    "folium.Marker(kmeans.cluster_centers_[4].tolist(),popup = data_group4.groupby(['category_id1']).size().idxmax()\n",
    ", icon=folium.Icon(color='green',icon='info-sign')).add_to(m)\n",
    "\n",
    "m"
   ]
  },
  {
   "cell_type": "code",
   "execution_count": null,
   "metadata": {},
   "outputs": [],
   "source": []
  },
  {
   "cell_type": "code",
   "execution_count": null,
   "metadata": {},
   "outputs": [],
   "source": []
  }
 ],
 "metadata": {
  "kernelspec": {
   "display_name": "Python 3",
   "language": "python",
   "name": "python3"
  },
  "language_info": {
   "codemirror_mode": {
    "name": "ipython",
    "version": 3
   },
   "file_extension": ".py",
   "mimetype": "text/x-python",
   "name": "python",
   "nbconvert_exporter": "python",
   "pygments_lexer": "ipython3",
   "version": "3.7.6"
  }
 },
 "nbformat": 4,
 "nbformat_minor": 2
}
